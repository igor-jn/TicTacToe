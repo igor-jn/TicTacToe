{
 "cells": [
  {
   "cell_type": "code",
   "execution_count": 3,
   "id": "d287a47e",
   "metadata": {},
   "outputs": [],
   "source": [
    "import random\n",
    "from IPython.display import clear_output"
   ]
  },
  {
   "cell_type": "code",
   "execution_count": 25,
   "id": "b05b5634",
   "metadata": {},
   "outputs": [],
   "source": [
    "board = [\" \",\" \",\" \",\" \",\" \",\" \",\" \",\" \",\" \",\" \"]\n",
    "ref_board = [\"#\",\"1\",\"2\",\"3\",\"4\",\"5\",\"6\",\"7\",\"8\",\"9\"]"
   ]
  },
  {
   "cell_type": "code",
   "execution_count": null,
   "id": "781cbc5b",
   "metadata": {},
   "outputs": [],
   "source": [
    "def show_board(board):\n",
    "    clear_output()\n",
    "    print(board[7] + \"|\" + board[8] + \"|\" + board[9])\n",
    "    print(\"-\"*5)\n",
    "    print(board[4] + \"|\" + board[5] + \"|\" + board[6])\n",
    "    print(\"-\"*5)\n",
    "    print(board[1] + \"|\" + board[2] + \"|\" + board[3])"
   ]
  },
  {
   "cell_type": "code",
   "execution_count": 65,
   "id": "a8f08336",
   "metadata": {},
   "outputs": [],
   "source": [
    "def show_board_w_ref(board,ref_board):\n",
    "    clear_output()\n",
    "    print(board[7] + \"|\" + board[8] + \"|\" + board[9] + \" \"*12 + ref_board[7] + \"|\" + ref_board[8] + \"|\" + ref_board[9])\n",
    "    print(\"-\"*5 + \"  POSITION  \" + \"-\"*5)\n",
    "    print(board[4] + \"|\" + board[5] + \"|\" + board[6] + \" \"*4 + \"← →\" + \" \"*5 + ref_board[4] + \"|\" + ref_board[5] + \"|\" + ref_board[6])\n",
    "    print(\"-\"*5 + \"   GUIDE   \" + \"-\"*5)\n",
    "    print(board[1] + \"|\" + board[2] + \"|\" + board[3] + \" \"*12 + ref_board[1] + \"|\" + ref_board[2] + \"|\" + ref_board[3])"
   ]
  },
  {
   "cell_type": "code",
   "execution_count": 66,
   "id": "53178651",
   "metadata": {},
   "outputs": [
    {
     "name": "stdout",
     "output_type": "stream",
     "text": [
      " | |             7|8|9\n",
      "-----  POSITION  -----\n",
      " | |     ← →     4|5|6\n",
      "-----   GUIDE   -----\n",
      " | |             1|2|3\n"
     ]
    }
   ],
   "source": [
    "show_board_w_ref(board,ref_board)"
   ]
  },
  {
   "cell_type": "code",
   "execution_count": 6,
   "id": "cba024f2",
   "metadata": {},
   "outputs": [],
   "source": [
    "def set_turn():\n",
    "    \n",
    "    turn = str(random.randint(1,2))  \n",
    "    \n",
    "    if turn == '1':\n",
    "        return 'Player 1'\n",
    "        \n",
    "    else:\n",
    "        return 'Player 2'"
   ]
  },
  {
   "cell_type": "code",
   "execution_count": 7,
   "id": "363194fe",
   "metadata": {},
   "outputs": [],
   "source": [
    "def set_marker():\n",
    "    \n",
    "    marker = \"\"\n",
    "    \n",
    "    while marker not in [\"X\",\"O\"]:\n",
    "        \n",
    "        marker = str(input(\"Which marker would you like? Choose X or O.\")).upper()\n",
    "        \n",
    "    if marker == \"X\":\n",
    "        return (\"X\",\"O\")\n",
    "    else:\n",
    "        return (\"O\",\"X\")"
   ]
  },
  {
   "cell_type": "code",
   "execution_count": 8,
   "id": "55fd0e88",
   "metadata": {},
   "outputs": [],
   "source": [
    "def place_marker(board,marker,position):\n",
    "    \n",
    "    board[position] = marker\n",
    "    \n",
    "    return board"
   ]
  },
  {
   "cell_type": "code",
   "execution_count": 9,
   "id": "477a42f6",
   "metadata": {},
   "outputs": [],
   "source": [
    "def get_position():\n",
    "    \n",
    "    position = 0\n",
    "    \n",
    "    while position not in ['1','2','3','4','5','6','7','8','9']:\n",
    "        \n",
    "        position = input(\"Choose next position. (1-9)\")\n",
    "    \n",
    "    return int(position)"
   ]
  },
  {
   "cell_type": "code",
   "execution_count": 10,
   "id": "b5eff96b",
   "metadata": {},
   "outputs": [],
   "source": [
    "def check_board(board,position):\n",
    "    \n",
    "    if board[position] in ['X','O']:\n",
    "        return False\n",
    "    else:\n",
    "        return True"
   ]
  },
  {
   "cell_type": "code",
   "execution_count": 15,
   "id": "ace29418",
   "metadata": {},
   "outputs": [],
   "source": [
    "def check_win(board,marker):\n",
    "    \n",
    "    return ((board[1] == board[2] == board[3] == marker) or\n",
    "           (board[4] == board[5] == board[6] == marker) or\n",
    "           (board[7] == board[8] == board[9] == marker) or\n",
    "           (board[1] == board[4] == board[7] == marker) or\n",
    "           (board[2] == board[5] == board[8] == marker) or\n",
    "           (board[3] == board[6] == board[9] == marker) or\n",
    "           (board[1] == board[5] == board[9] == marker) or\n",
    "           (board[3] == board[5] == board[7] == marker))"
   ]
  },
  {
   "cell_type": "code",
   "execution_count": 16,
   "id": "dade1e15",
   "metadata": {},
   "outputs": [],
   "source": [
    "def full_board(board):\n",
    "    \n",
    "    l = []\n",
    "    \n",
    "    for item in board:\n",
    "        l.append(item)\n",
    "    \n",
    "    if ' ' not in l:\n",
    "        return True\n",
    "    else:\n",
    "        return False"
   ]
  },
  {
   "cell_type": "code",
   "execution_count": 17,
   "id": "5c79a943",
   "metadata": {},
   "outputs": [],
   "source": [
    "def replay():\n",
    "    \n",
    "    choice = 'x'\n",
    "    \n",
    "    while choice not in ['Y','N']:\n",
    "        \n",
    "        choice = str(input('Play another game? Y or N ')).upper()\n",
    "        \n",
    "    if choice == 'Y':\n",
    "        return True\n",
    "    else:\n",
    "        print('Thanks for playing!')\n",
    "        return False"
   ]
  },
  {
   "cell_type": "code",
   "execution_count": 67,
   "id": "ebd65a27",
   "metadata": {
    "scrolled": true
   },
   "outputs": [
    {
     "name": "stdout",
     "output_type": "stream",
     "text": [
      "X|O|O            7|8|9\n",
      "-----  POSITION  -----\n",
      " |O|     ← →     4|5|6\n",
      "-----   GUIDE   -----\n",
      "O|X|X            1|2|3\n",
      "Player 2 wins!\n"
     ]
    },
    {
     "ename": "KeyboardInterrupt",
     "evalue": "Interrupted by user",
     "output_type": "error",
     "traceback": [
      "\u001b[1;31m---------------------------------------------------------------------------\u001b[0m",
      "\u001b[1;31mKeyboardInterrupt\u001b[0m                         Traceback (most recent call last)",
      "\u001b[1;32m~\\AppData\\Local\\Temp/ipykernel_4996/480019492.py\u001b[0m in \u001b[0;36m<module>\u001b[1;34m\u001b[0m\n\u001b[0;32m     78\u001b[0m                 \u001b[0mturn\u001b[0m \u001b[1;33m=\u001b[0m \u001b[1;34m'Player 1'\u001b[0m\u001b[1;33m\u001b[0m\u001b[1;33m\u001b[0m\u001b[0m\n\u001b[0;32m     79\u001b[0m \u001b[1;33m\u001b[0m\u001b[0m\n\u001b[1;32m---> 80\u001b[1;33m     \u001b[0mgame_on\u001b[0m \u001b[1;33m=\u001b[0m \u001b[0mreplay\u001b[0m\u001b[1;33m(\u001b[0m\u001b[1;33m)\u001b[0m\u001b[1;33m\u001b[0m\u001b[1;33m\u001b[0m\u001b[0m\n\u001b[0m\u001b[0;32m     81\u001b[0m     \u001b[1;32mif\u001b[0m \u001b[0mgame_on\u001b[0m \u001b[1;33m==\u001b[0m \u001b[1;32mFalse\u001b[0m\u001b[1;33m:\u001b[0m\u001b[1;33m\u001b[0m\u001b[1;33m\u001b[0m\u001b[0m\n\u001b[0;32m     82\u001b[0m         \u001b[1;32mbreak\u001b[0m\u001b[1;33m\u001b[0m\u001b[1;33m\u001b[0m\u001b[0m\n",
      "\u001b[1;32m~\\AppData\\Local\\Temp/ipykernel_4996/1303698354.py\u001b[0m in \u001b[0;36mreplay\u001b[1;34m()\u001b[0m\n\u001b[0;32m      5\u001b[0m     \u001b[1;32mwhile\u001b[0m \u001b[0mchoice\u001b[0m \u001b[1;32mnot\u001b[0m \u001b[1;32min\u001b[0m \u001b[1;33m[\u001b[0m\u001b[1;34m'Y'\u001b[0m\u001b[1;33m,\u001b[0m\u001b[1;34m'N'\u001b[0m\u001b[1;33m]\u001b[0m\u001b[1;33m:\u001b[0m\u001b[1;33m\u001b[0m\u001b[1;33m\u001b[0m\u001b[0m\n\u001b[0;32m      6\u001b[0m \u001b[1;33m\u001b[0m\u001b[0m\n\u001b[1;32m----> 7\u001b[1;33m         \u001b[0mchoice\u001b[0m \u001b[1;33m=\u001b[0m \u001b[0mstr\u001b[0m\u001b[1;33m(\u001b[0m\u001b[0minput\u001b[0m\u001b[1;33m(\u001b[0m\u001b[1;34m'Play another game? Y or N '\u001b[0m\u001b[1;33m)\u001b[0m\u001b[1;33m)\u001b[0m\u001b[1;33m.\u001b[0m\u001b[0mupper\u001b[0m\u001b[1;33m(\u001b[0m\u001b[1;33m)\u001b[0m\u001b[1;33m\u001b[0m\u001b[1;33m\u001b[0m\u001b[0m\n\u001b[0m\u001b[0;32m      8\u001b[0m \u001b[1;33m\u001b[0m\u001b[0m\n\u001b[0;32m      9\u001b[0m     \u001b[1;32mif\u001b[0m \u001b[0mchoice\u001b[0m \u001b[1;33m==\u001b[0m \u001b[1;34m'Y'\u001b[0m\u001b[1;33m:\u001b[0m\u001b[1;33m\u001b[0m\u001b[1;33m\u001b[0m\u001b[0m\n",
      "\u001b[1;32mC:\\ProgramData\\Anaconda3\\lib\\site-packages\\ipykernel\\kernelbase.py\u001b[0m in \u001b[0;36mraw_input\u001b[1;34m(self, prompt)\u001b[0m\n\u001b[0;32m   1004\u001b[0m                 \u001b[1;34m\"raw_input was called, but this frontend does not support input requests.\"\u001b[0m\u001b[1;33m\u001b[0m\u001b[1;33m\u001b[0m\u001b[0m\n\u001b[0;32m   1005\u001b[0m             )\n\u001b[1;32m-> 1006\u001b[1;33m         return self._input_request(\n\u001b[0m\u001b[0;32m   1007\u001b[0m             \u001b[0mstr\u001b[0m\u001b[1;33m(\u001b[0m\u001b[0mprompt\u001b[0m\u001b[1;33m)\u001b[0m\u001b[1;33m,\u001b[0m\u001b[1;33m\u001b[0m\u001b[1;33m\u001b[0m\u001b[0m\n\u001b[0;32m   1008\u001b[0m             \u001b[0mself\u001b[0m\u001b[1;33m.\u001b[0m\u001b[0m_parent_ident\u001b[0m\u001b[1;33m[\u001b[0m\u001b[1;34m\"shell\"\u001b[0m\u001b[1;33m]\u001b[0m\u001b[1;33m,\u001b[0m\u001b[1;33m\u001b[0m\u001b[1;33m\u001b[0m\u001b[0m\n",
      "\u001b[1;32mC:\\ProgramData\\Anaconda3\\lib\\site-packages\\ipykernel\\kernelbase.py\u001b[0m in \u001b[0;36m_input_request\u001b[1;34m(self, prompt, ident, parent, password)\u001b[0m\n\u001b[0;32m   1049\u001b[0m             \u001b[1;32mexcept\u001b[0m \u001b[0mKeyboardInterrupt\u001b[0m\u001b[1;33m:\u001b[0m\u001b[1;33m\u001b[0m\u001b[1;33m\u001b[0m\u001b[0m\n\u001b[0;32m   1050\u001b[0m                 \u001b[1;31m# re-raise KeyboardInterrupt, to truncate traceback\u001b[0m\u001b[1;33m\u001b[0m\u001b[1;33m\u001b[0m\u001b[0m\n\u001b[1;32m-> 1051\u001b[1;33m                 \u001b[1;32mraise\u001b[0m \u001b[0mKeyboardInterrupt\u001b[0m\u001b[1;33m(\u001b[0m\u001b[1;34m\"Interrupted by user\"\u001b[0m\u001b[1;33m)\u001b[0m \u001b[1;32mfrom\u001b[0m \u001b[1;32mNone\u001b[0m\u001b[1;33m\u001b[0m\u001b[1;33m\u001b[0m\u001b[0m\n\u001b[0m\u001b[0;32m   1052\u001b[0m             \u001b[1;32mexcept\u001b[0m \u001b[0mException\u001b[0m\u001b[1;33m:\u001b[0m\u001b[1;33m\u001b[0m\u001b[1;33m\u001b[0m\u001b[0m\n\u001b[0;32m   1053\u001b[0m                 \u001b[0mself\u001b[0m\u001b[1;33m.\u001b[0m\u001b[0mlog\u001b[0m\u001b[1;33m.\u001b[0m\u001b[0mwarning\u001b[0m\u001b[1;33m(\u001b[0m\u001b[1;34m\"Invalid Message:\"\u001b[0m\u001b[1;33m,\u001b[0m \u001b[0mexc_info\u001b[0m\u001b[1;33m=\u001b[0m\u001b[1;32mTrue\u001b[0m\u001b[1;33m)\u001b[0m\u001b[1;33m\u001b[0m\u001b[1;33m\u001b[0m\u001b[0m\n",
      "\u001b[1;31mKeyboardInterrupt\u001b[0m: Interrupted by user"
     ]
    }
   ],
   "source": [
    "print(\"Welcome to TicTacToe!\")\n",
    "\n",
    "while True:\n",
    "\n",
    "    board = [\"#\",\" \",\" \",\" \",\" \",\" \",\" \",\" \",\" \",\" \"]\n",
    "    ref_board = [\"#\",\"1\",\"2\",\"3\",\"4\",\"5\",\"6\",\"7\",\"8\",\"9\"]\n",
    "    player1_marker,player2_marker = set_marker()\n",
    "    turn = set_turn()\n",
    "    \n",
    "    while True:\n",
    "        ready = str(input('Ready to play? Y or N ')).upper().strip()\n",
    "        \n",
    "        if ready[0] == 'Y':\n",
    "            game_on = True\n",
    "            break\n",
    "        elif ready[0] == 'N':\n",
    "            game_on = False\n",
    "            break\n",
    "        else:\n",
    "            print('Not a valid choice. Please choose Y or N')\n",
    "\n",
    "    while game_on:\n",
    "\n",
    "        if turn == 'Player 1':\n",
    "\n",
    "            print(f\"{turn}'s turn!\")\n",
    "\n",
    "            show_board_w_ref(board,ref_board)\n",
    "            print(f\"{turn}'s turn!\")\n",
    "\n",
    "            position = get_position()\n",
    "\n",
    "            while not check_board(board,position):\n",
    "                print('Position already filled. Please choose another one.')\n",
    "                position = get_position()\n",
    "\n",
    "            place_marker(board,player1_marker,position)\n",
    "\n",
    "            if check_win(board,player1_marker):\n",
    "                show_board_w_ref(board,ref_board)\n",
    "                print('Player 1 wins!')\n",
    "                game_on = False\n",
    "\n",
    "            elif full_board(board):\n",
    "                show_board_w_ref(board,ref_board)\n",
    "                print('TIE GAME! The board is full...')\n",
    "                game_on = False\n",
    "\n",
    "            else:\n",
    "                turn = 'Player 2'\n",
    "\n",
    "        elif turn == 'Player 2':\n",
    "\n",
    "            print(f\"{turn}'s turn!\")\n",
    "\n",
    "            show_board_w_ref(board,ref_board)\n",
    "            print(f\"{turn}'s turn!\")\n",
    "\n",
    "            position = get_position()\n",
    "\n",
    "            while not check_board(board,position):\n",
    "                print('Position already filled. Please choose another one.')\n",
    "                position = get_position()\n",
    "\n",
    "            place_marker(board,player2_marker,position)\n",
    "\n",
    "            if check_win(board,player2_marker):\n",
    "                show_board_w_ref(board,ref_board)\n",
    "                print('Player 2 wins!')\n",
    "                game_on = False\n",
    "\n",
    "            elif full_board(board):\n",
    "                show_board_w_ref(board,ref_board)\n",
    "                print('TIE GAME! The board is full...')\n",
    "                game_on = False\n",
    "\n",
    "            else:\n",
    "                turn = 'Player 1'\n",
    "\n",
    "    game_on = replay()\n",
    "    if game_on == False:\n",
    "        break\n"
   ]
  },
  {
   "cell_type": "code",
   "execution_count": null,
   "id": "8cc1feb6",
   "metadata": {},
   "outputs": [],
   "source": []
  }
 ],
 "metadata": {
  "kernelspec": {
   "display_name": "Python 3 (ipykernel)",
   "language": "python",
   "name": "python3"
  },
  "language_info": {
   "codemirror_mode": {
    "name": "ipython",
    "version": 3
   },
   "file_extension": ".py",
   "mimetype": "text/x-python",
   "name": "python",
   "nbconvert_exporter": "python",
   "pygments_lexer": "ipython3",
   "version": "3.9.7"
  }
 },
 "nbformat": 4,
 "nbformat_minor": 5
}
